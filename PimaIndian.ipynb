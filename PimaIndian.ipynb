{
  "nbformat": 4,
  "nbformat_minor": 0,
  "metadata": {
    "colab": {
      "name": "AI_Pima.ipynb",
      "provenance": [],
      "include_colab_link": true
    },
    "kernelspec": {
      "name": "python3",
      "display_name": "Python 3"
    },
    "language_info": {
      "name": "python"
    }
  },
  "cells": [
    {
      "cell_type": "markdown",
      "metadata": {
        "id": "view-in-github",
        "colab_type": "text"
      },
      "source": [
        "<a href=\"https://colab.research.google.com/github/LCR2001/AI_Thinking/blob/main/Pima.ipynb\" target=\"_parent\"><img src=\"https://colab.research.google.com/assets/colab-badge.svg\" alt=\"Open In Colab\"/></a>"
      ]
    },
    {
      "cell_type": "code",
      "execution_count": null,
      "metadata": {
        "colab": {
          "base_uri": "https://localhost:8080/"
        },
        "id": "0kh10MV-QCUV",
        "outputId": "eb3b7225-4de7-467f-9598-716354bc9440"
      },
      "outputs": [
        {
          "output_type": "stream",
          "name": "stdout",
          "text": [
            "Drive already mounted at /content/gdrive; to attempt to forcibly remount, call drive.mount(\"/content/gdrive\", force_remount=True).\n",
            "/content/gdrive/.shortcut-targets-by-id/1EH1SqwJ8QqFAhAXhp4Xs80aQOOfssre8/AI-Thinking-Data\n"
          ]
        }
      ],
      "source": [
        "from google.colab import drive\n",
        "drive.mount('/content/gdrive')\n",
        "%cd \"/content/gdrive/MyDrive/AI-Thinking-Data\""
      ]
    },
    {
      "cell_type": "code",
      "source": [
        "import pandas as pd\n",
        "import numpy as np\n",
        "import matplotlib.pyplot as plt\n",
        "%matplotlib inline\n",
        "\n",
        "np.random.seed(156)\n",
        "\n",
        "from sklearn.model_selection import train_test_split\n",
        "from sklearn.metrics import accuracy_score, precision_score, recall_score, roc_auc_score\n",
        "from sklearn.metrics import f1_score, confusion_matrix, precision_recall_curve, roc_curve\n",
        "from sklearn.preprocessing import StandardScaler\n",
        "from sklearn.linear_model import LogisticRegression\n",
        "\n",
        "diabetes_data = pd.read_csv(\"diabetes.csv\")\n",
        "print(diabetes_data['Outcome'].value_counts())\n",
        "diabetes_data.head(3)"
      ],
      "metadata": {
        "colab": {
          "base_uri": "https://localhost:8080/",
          "height": 193
        },
        "id": "WdE2uuNiQSuB",
        "outputId": "cd8ea42e-3bca-45d3-a482-086b0bfeab3f"
      },
      "execution_count": null,
      "outputs": [
        {
          "output_type": "stream",
          "name": "stdout",
          "text": [
            "0    500\n",
            "1    268\n",
            "Name: Outcome, dtype: int64\n"
          ]
        },
        {
          "output_type": "execute_result",
          "data": {
            "text/plain": [
              "   Pregnancies  Glucose  BloodPressure  SkinThickness  Insulin   BMI  \\\n",
              "0            6      148             72             35        0  33.6   \n",
              "1            1       85             66             29        0  26.6   \n",
              "2            8      183             64              0        0  23.3   \n",
              "\n",
              "   DiabetesPedigreeFunction  Age  Outcome  \n",
              "0                     0.627   50        1  \n",
              "1                     0.351   31        0  \n",
              "2                     0.672   32        1  "
            ],
            "text/html": [
              "\n",
              "  <div id=\"df-d8f96edc-611c-431c-9417-7c8368ab4830\">\n",
              "    <div class=\"colab-df-container\">\n",
              "      <div>\n",
              "<style scoped>\n",
              "    .dataframe tbody tr th:only-of-type {\n",
              "        vertical-align: middle;\n",
              "    }\n",
              "\n",
              "    .dataframe tbody tr th {\n",
              "        vertical-align: top;\n",
              "    }\n",
              "\n",
              "    .dataframe thead th {\n",
              "        text-align: right;\n",
              "    }\n",
              "</style>\n",
              "<table border=\"1\" class=\"dataframe\">\n",
              "  <thead>\n",
              "    <tr style=\"text-align: right;\">\n",
              "      <th></th>\n",
              "      <th>Pregnancies</th>\n",
              "      <th>Glucose</th>\n",
              "      <th>BloodPressure</th>\n",
              "      <th>SkinThickness</th>\n",
              "      <th>Insulin</th>\n",
              "      <th>BMI</th>\n",
              "      <th>DiabetesPedigreeFunction</th>\n",
              "      <th>Age</th>\n",
              "      <th>Outcome</th>\n",
              "    </tr>\n",
              "  </thead>\n",
              "  <tbody>\n",
              "    <tr>\n",
              "      <th>0</th>\n",
              "      <td>6</td>\n",
              "      <td>148</td>\n",
              "      <td>72</td>\n",
              "      <td>35</td>\n",
              "      <td>0</td>\n",
              "      <td>33.6</td>\n",
              "      <td>0.627</td>\n",
              "      <td>50</td>\n",
              "      <td>1</td>\n",
              "    </tr>\n",
              "    <tr>\n",
              "      <th>1</th>\n",
              "      <td>1</td>\n",
              "      <td>85</td>\n",
              "      <td>66</td>\n",
              "      <td>29</td>\n",
              "      <td>0</td>\n",
              "      <td>26.6</td>\n",
              "      <td>0.351</td>\n",
              "      <td>31</td>\n",
              "      <td>0</td>\n",
              "    </tr>\n",
              "    <tr>\n",
              "      <th>2</th>\n",
              "      <td>8</td>\n",
              "      <td>183</td>\n",
              "      <td>64</td>\n",
              "      <td>0</td>\n",
              "      <td>0</td>\n",
              "      <td>23.3</td>\n",
              "      <td>0.672</td>\n",
              "      <td>32</td>\n",
              "      <td>1</td>\n",
              "    </tr>\n",
              "  </tbody>\n",
              "</table>\n",
              "</div>\n",
              "      <button class=\"colab-df-convert\" onclick=\"convertToInteractive('df-d8f96edc-611c-431c-9417-7c8368ab4830')\"\n",
              "              title=\"Convert this dataframe to an interactive table.\"\n",
              "              style=\"display:none;\">\n",
              "        \n",
              "  <svg xmlns=\"http://www.w3.org/2000/svg\" height=\"24px\"viewBox=\"0 0 24 24\"\n",
              "       width=\"24px\">\n",
              "    <path d=\"M0 0h24v24H0V0z\" fill=\"none\"/>\n",
              "    <path d=\"M18.56 5.44l.94 2.06.94-2.06 2.06-.94-2.06-.94-.94-2.06-.94 2.06-2.06.94zm-11 1L8.5 8.5l.94-2.06 2.06-.94-2.06-.94L8.5 2.5l-.94 2.06-2.06.94zm10 10l.94 2.06.94-2.06 2.06-.94-2.06-.94-.94-2.06-.94 2.06-2.06.94z\"/><path d=\"M17.41 7.96l-1.37-1.37c-.4-.4-.92-.59-1.43-.59-.52 0-1.04.2-1.43.59L10.3 9.45l-7.72 7.72c-.78.78-.78 2.05 0 2.83L4 21.41c.39.39.9.59 1.41.59.51 0 1.02-.2 1.41-.59l7.78-7.78 2.81-2.81c.8-.78.8-2.07 0-2.86zM5.41 20L4 18.59l7.72-7.72 1.47 1.35L5.41 20z\"/>\n",
              "  </svg>\n",
              "      </button>\n",
              "      \n",
              "  <style>\n",
              "    .colab-df-container {\n",
              "      display:flex;\n",
              "      flex-wrap:wrap;\n",
              "      gap: 12px;\n",
              "    }\n",
              "\n",
              "    .colab-df-convert {\n",
              "      background-color: #E8F0FE;\n",
              "      border: none;\n",
              "      border-radius: 50%;\n",
              "      cursor: pointer;\n",
              "      display: none;\n",
              "      fill: #1967D2;\n",
              "      height: 32px;\n",
              "      padding: 0 0 0 0;\n",
              "      width: 32px;\n",
              "    }\n",
              "\n",
              "    .colab-df-convert:hover {\n",
              "      background-color: #E2EBFA;\n",
              "      box-shadow: 0px 1px 2px rgba(60, 64, 67, 0.3), 0px 1px 3px 1px rgba(60, 64, 67, 0.15);\n",
              "      fill: #174EA6;\n",
              "    }\n",
              "\n",
              "    [theme=dark] .colab-df-convert {\n",
              "      background-color: #3B4455;\n",
              "      fill: #D2E3FC;\n",
              "    }\n",
              "\n",
              "    [theme=dark] .colab-df-convert:hover {\n",
              "      background-color: #434B5C;\n",
              "      box-shadow: 0px 1px 3px 1px rgba(0, 0, 0, 0.15);\n",
              "      filter: drop-shadow(0px 1px 2px rgba(0, 0, 0, 0.3));\n",
              "      fill: #FFFFFF;\n",
              "    }\n",
              "  </style>\n",
              "\n",
              "      <script>\n",
              "        const buttonEl =\n",
              "          document.querySelector('#df-d8f96edc-611c-431c-9417-7c8368ab4830 button.colab-df-convert');\n",
              "        buttonEl.style.display =\n",
              "          google.colab.kernel.accessAllowed ? 'block' : 'none';\n",
              "\n",
              "        async function convertToInteractive(key) {\n",
              "          const element = document.querySelector('#df-d8f96edc-611c-431c-9417-7c8368ab4830');\n",
              "          const dataTable =\n",
              "            await google.colab.kernel.invokeFunction('convertToInteractive',\n",
              "                                                     [key], {});\n",
              "          if (!dataTable) return;\n",
              "\n",
              "          const docLinkHtml = 'Like what you see? Visit the ' +\n",
              "            '<a target=\"_blank\" href=https://colab.research.google.com/notebooks/data_table.ipynb>data table notebook</a>'\n",
              "            + ' to learn more about interactive tables.';\n",
              "          element.innerHTML = '';\n",
              "          dataTable['output_type'] = 'display_data';\n",
              "          await google.colab.output.renderOutput(dataTable, element);\n",
              "          const docLink = document.createElement('div');\n",
              "          docLink.innerHTML = docLinkHtml;\n",
              "          element.appendChild(docLink);\n",
              "        }\n",
              "      </script>\n",
              "    </div>\n",
              "  </div>\n",
              "  "
            ]
          },
          "metadata": {},
          "execution_count": 2
        }
      ]
    },
    {
      "cell_type": "code",
      "source": [
        "diabetes_data.info()\n",
        "## Pregnancies: 임신 횟수\n",
        "## Glucose : 포도당 부하 검사 수치\n",
        "## BloodPressure : 혈압(mm Hg)\n",
        "## Skin Thickness : 팔 삼두근 뒤쪽의 피하지방 측정값(mm)\n",
        "## Insulin : 혈청 인슐린(mm U/ml)\n",
        "## BMI : 체질량 지수\n",
        "## DiabetesPedigreeFunction : 당뇨 내력 가중치 값\n",
        "## Age : 나이\n",
        "## Outcome : 클래스 (0 또는 1)"
      ],
      "metadata": {
        "colab": {
          "base_uri": "https://localhost:8080/"
        },
        "id": "FtEyBdD-QP_n",
        "outputId": "915c3670-2d54-44bd-a0a3-547e08b34d81"
      },
      "execution_count": null,
      "outputs": [
        {
          "output_type": "stream",
          "name": "stdout",
          "text": [
            "<class 'pandas.core.frame.DataFrame'>\n",
            "RangeIndex: 768 entries, 0 to 767\n",
            "Data columns (total 9 columns):\n",
            " #   Column                    Non-Null Count  Dtype  \n",
            "---  ------                    --------------  -----  \n",
            " 0   Pregnancies               768 non-null    int64  \n",
            " 1   Glucose                   768 non-null    int64  \n",
            " 2   BloodPressure             768 non-null    int64  \n",
            " 3   SkinThickness             768 non-null    int64  \n",
            " 4   Insulin                   768 non-null    int64  \n",
            " 5   BMI                       768 non-null    float64\n",
            " 6   DiabetesPedigreeFunction  768 non-null    float64\n",
            " 7   Age                       768 non-null    int64  \n",
            " 8   Outcome                   768 non-null    int64  \n",
            "dtypes: float64(2), int64(7)\n",
            "memory usage: 54.1 KB\n"
          ]
        }
      ]
    },
    {
      "cell_type": "code",
      "source": [
        "from sklearn.metrics import accuracy_score, precision_score, recall_score, roc_auc_score\n",
        "from sklearn.metrics import f1_score, confusion_matrix, precision_recall_curve, roc_curve\n",
        "from sklearn.preprocessing import StandardScaler\n",
        "from sklearn.linear_model import LogisticRegression\n",
        "\n",
        "def get_clf_eval(y_test, pred=None, pred_proba=None):\n",
        "  confusion = confusion_matrix(y_test, pred)\n",
        "  accuracy = accuracy_score(y_test, pred)\n",
        "  precision = precision_score(y_test,pred)\n",
        "  recall = recall_score(y_test, pred)\n",
        "  f1 = f1_score(y_test,pred)\n",
        "  roc_auc = roc_auc_score(y_test, pred_proba)\n",
        "  print('오차 행렬')\n",
        "  print(confusion)\n",
        "  print('정확도: {0:.4f}, 정밀도: {1:.4f}, 재현율:{2:.4f}, F1:{3:.4f}, AUC:{4:.4f}'.format(accuracy, precision, recall, f1, roc_auc))\n",
        "  return (accuracy + precision + recall + f1 + roc_auc) / 5"
      ],
      "metadata": {
        "id": "xa74s9sbQSI0"
      },
      "execution_count": null,
      "outputs": []
    },
    {
      "cell_type": "code",
      "source": [
        "def precision_recall_curve_plot(y_test, pred_proba_c1):\n",
        "  precisions, recalls, thresholds = precision_recall_curve(y_test, pred_proba_c1)\n",
        "\n",
        "  plt.figure(figsize=(8,6))\n",
        "  threshold_boundary = thresholds.shape[0]\n",
        "  plt.plot(thresholds, precisions[0:threshold_boundary], linestyle='--',label='precise')\n",
        "  plt.plot(thresholds, recalls[0:threshold_boundary],label='recall')\n",
        "\n",
        "  start, end = plt.xlim()\n",
        "  plt.xticks(np.round(np.arange(start,end,0.1),2))\n",
        "  \n",
        "  plt.xlabel('Threshold value'); plt.ylabel('Precision and Recall value')\n",
        "  plt.legend()\n",
        "  plt.grid()\n",
        "  plt.show()"
      ],
      "metadata": {
        "id": "3P4X2JkfQOmW"
      },
      "execution_count": null,
      "outputs": []
    },
    {
      "cell_type": "code",
      "source": [
        "# 혈당, 혈압, 피부두께, 인슐린, BMI가 0인 것이 말이 되지 않음.\n",
        "# 즉, 누가 결측치(NaN)을 0으로 대체한 것이고, 피부두께와 인슐린에서는 상당한 비율을 차지하고 있음.\n",
        "zero_features = ['Glucose', 'BloodPressure', 'SkinThickness','Insulin','BMI']\n",
        "total_count = diabetes_data['Glucose'].count()\n",
        "\n",
        "for feature in zero_features:\n",
        "  zero_count = diabetes_data[diabetes_data[feature] == 0][feature].count()\n",
        "  print('{0} 0 건수는 {1}, 퍼센트는 {2:.2f} %'.format(feature, zero_count, 100*zero_count/total_count))"
      ],
      "metadata": {
        "colab": {
          "base_uri": "https://localhost:8080/"
        },
        "id": "HkqO54CgUedn",
        "outputId": "20a7d10c-78da-4b46-8cfd-c5bfaf7eba85"
      },
      "execution_count": null,
      "outputs": [
        {
          "output_type": "stream",
          "name": "stdout",
          "text": [
            "Glucose 0 건수는 5, 퍼센트는 0.65 %\n",
            "BloodPressure 0 건수는 35, 퍼센트는 4.56 %\n",
            "SkinThickness 0 건수는 227, 퍼센트는 29.56 %\n",
            "Insulin 0 건수는 374, 퍼센트는 48.70 %\n",
            "BMI 0 건수는 11, 퍼센트는 1.43 %\n"
          ]
        }
      ]
    },
    {
      "cell_type": "code",
      "source": [
        "plt.hist(diabetes_data['SkinThickness'], bins=10) # SkinThickness에서 0의 비율이 데이터 대부분을 차지함."
      ],
      "metadata": {
        "colab": {
          "base_uri": "https://localhost:8080/",
          "height": 316
        },
        "id": "sDRUSGWlYvpd",
        "outputId": "c3679836-8933-429d-9aee-01be14b8c497"
      },
      "execution_count": null,
      "outputs": [
        {
          "output_type": "execute_result",
          "data": {
            "text/plain": [
              "(array([231., 107., 165., 175.,  78.,   9.,   2.,   0.,   0.,   1.]),\n",
              " array([ 0. ,  9.9, 19.8, 29.7, 39.6, 49.5, 59.4, 69.3, 79.2, 89.1, 99. ]),\n",
              " <a list of 10 Patch objects>)"
            ]
          },
          "metadata": {},
          "execution_count": 7
        },
        {
          "output_type": "display_data",
          "data": {
            "text/plain": [
              "<Figure size 432x288 with 1 Axes>"
            ],
            "image/png": "[encoded data removed]"
          },
          "metadata": {
            "needs_background": "light"
          }
        }
      ]
    },
    {
      "cell_type": "code",
      "source": [
        "plt.hist(diabetes_data['Insulin'], bins=10) # Insulin에서 0의의 비율이 데이터 대부분을 차지함."
      ],
      "metadata": {
        "colab": {
          "base_uri": "https://localhost:8080/",
          "height": 333
        },
        "id": "1BOnAk15Vmoo",
        "outputId": "d6731731-6caa-479d-d56a-fd79428cc24a"
      },
      "execution_count": null,
      "outputs": [
        {
          "output_type": "execute_result",
          "data": {
            "text/plain": [
              "(array([487., 155.,  70.,  30.,   8.,   9.,   5.,   1.,   2.,   1.]),\n",
              " array([  0. ,  84.6, 169.2, 253.8, 338.4, 423. , 507.6, 592.2, 676.8,\n",
              "        761.4, 846. ]),\n",
              " <a list of 10 Patch objects>)"
            ]
          },
          "metadata": {},
          "execution_count": 8
        },
        {
          "output_type": "display_data",
          "data": {
            "text/plain": [
              "<Figure size 432x288 with 1 Axes>"
            ],
            "image/png": "[encoded data removed]"
          },
          "metadata": {
            "needs_background": "light"
          }
        }
      ]
    },
    {
      "cell_type": "code",
      "source": [
        "# 16page 임계값에 따른 성능지표 출력\n",
        "from sklearn.preprocessing import Binarizer\n",
        "thresholds = [0.3 , 0.33 ,0.36,0.39, 0.42 , 0.45 ,0.48, 0.50]\n",
        "\n",
        "def get_eval_by_threshold(y_test , pred_proba_c1, thresholds):\n",
        "  metrics_list = []\n",
        "  for custom_threshold in thresholds:\n",
        "    binarizer = Binarizer(threshold = custom_threshold).fit(pred_proba_c1)\n",
        "    custom_predict = binarizer.transform(pred_proba_c1)\n",
        "    print('임곗값: ', custom_threshold)\n",
        "    metric = get_clf_eval(y_test, custom_predict, pred_proba_c1)\n",
        "    print()\n",
        "    #precision_recall_curve_plot(y_test, pred_proba_c1)\n",
        "    metrics_list.append(metric)\n",
        "  return metrics_list"
      ],
      "metadata": {
        "id": "GdCk5dnpYuri"
      },
      "execution_count": null,
      "outputs": []
    },
    {
      "cell_type": "code",
      "source": [
        "# => 제대로된 분석이 되지 않으므로, 0 값을 평균으로로 대체.\n",
        "diabetes_data[zero_features]=diabetes_data[zero_features].replace(0, diabetes_data[zero_features].mean())"
      ],
      "metadata": {
        "id": "zTNiRkP-fiDg"
      },
      "execution_count": null,
      "outputs": []
    },
    {
      "cell_type": "code",
      "source": [
        "# hold_out\n",
        "print(\"hold out\", end = \"\\n\\n\")\n",
        "X = diabetes_data.iloc[:, :-1]\n",
        "y = diabetes_data.iloc[:,-1]\n",
        "metrics_list = []\n",
        "\n",
        "X_train, X_test, y_train, y_test = train_test_split(X, y, test_size = 0.2, random_state = 156, stratify=y)\n",
        "\n",
        "scaler = StandardScaler()\n",
        "X_train_scaled = scaler.fit_transform(X_train)\n",
        "X_test_scaled = scaler.transform(X_test)\n",
        "\n",
        "lr_clf = LogisticRegression()\n",
        "lr_clf.fit(X_train_scaled, y_train)\n",
        "pred = lr_clf.predict(X_test_scaled)\n",
        "pred_proba = lr_clf.predict_proba(X_test_scaled)[:,1]\n",
        "\n",
        "metrics_list = get_eval_by_threshold(y_test, pred_proba.reshape(-1, 1), thresholds)"
      ],
      "metadata": {
        "colab": {
          "base_uri": "https://localhost:8080/"
        },
        "id": "LOBtepWaWVK_",
        "outputId": "bcb30505-8b47-4e1d-d423-19612750cf70"
      },
      "execution_count": null,
      "outputs": [
        {
          "output_type": "stream",
          "name": "stdout",
          "text": [
            "hold out\n",
            "\n",
            "임곗값:  0.3\n",
            "오차 행렬\n",
            "[[67 33]\n",
            " [11 43]]\n",
            "정확도: 0.7143, 정밀도: 0.5658, 재현율:0.7963, F1:0.6615, AUC:0.8433\n",
            "\n",
            "임곗값:  0.33\n",
            "오차 행렬\n",
            "[[72 28]\n",
            " [12 42]]\n",
            "정확도: 0.7403, 정밀도: 0.6000, 재현율:0.7778, F1:0.6774, AUC:0.8433\n",
            "\n",
            "임곗값:  0.36\n",
            "오차 행렬\n",
            "[[76 24]\n",
            " [15 39]]\n",
            "정확도: 0.7468, 정밀도: 0.6190, 재현율:0.7222, F1:0.6667, AUC:0.8433\n",
            "\n",
            "임곗값:  0.39\n",
            "오차 행렬\n",
            "[[78 22]\n",
            " [16 38]]\n",
            "정확도: 0.7532, 정밀도: 0.6333, 재현율:0.7037, F1:0.6667, AUC:0.8433\n",
            "\n",
            "임곗값:  0.42\n",
            "오차 행렬\n",
            "[[84 16]\n",
            " [18 36]]\n",
            "정확도: 0.7792, 정밀도: 0.6923, 재현율:0.6667, F1:0.6792, AUC:0.8433\n",
            "\n",
            "임곗값:  0.45\n",
            "오차 행렬\n",
            "[[85 15]\n",
            " [18 36]]\n",
            "정확도: 0.7857, 정밀도: 0.7059, 재현율:0.6667, F1:0.6857, AUC:0.8433\n",
            "\n",
            "임곗값:  0.48\n",
            "오차 행렬\n",
            "[[88 12]\n",
            " [19 35]]\n",
            "정확도: 0.7987, 정밀도: 0.7447, 재현율:0.6481, F1:0.6931, AUC:0.8433\n",
            "\n",
            "임곗값:  0.5\n",
            "오차 행렬\n",
            "[[90 10]\n",
            " [21 33]]\n",
            "정확도: 0.7987, 정밀도: 0.7674, 재현율:0.6111, F1:0.6804, AUC:0.8433\n",
            "\n"
          ]
        }
      ]
    },
    {
      "cell_type": "code",
      "source": [
        "# hold - out 최적의 임계값으로 설정\n",
        "# 성능지표 5개를 모두 더한 뒤 평균을 낸 값이 가장 높은 임계값 지정\n",
        "\n",
        "print(\"hold out 최적의 임계값 지정\", end = \"\\n\\n\")\n",
        "X = diabetes_data.iloc[:, :-1]\n",
        "y = diabetes_data.iloc[:,-1]\n",
        "\n",
        "X_train, X_test, y_train, y_test = train_test_split(X, y, test_size = 0.2, random_state = 156, stratify=y)\n",
        "\n",
        "scaler = StandardScaler()\n",
        "X_train_scaled = scaler.fit_transform(X_train)\n",
        "X_test_scaled = scaler.transform(X_test)\n",
        "\n",
        "lr_clf = LogisticRegression()\n",
        "lr_clf.fit(X_train_scaled, y_train)\n",
        "\n",
        "# optimize threshold 찾기\n",
        "max_metric = max(metrics_list)\n",
        "max_idx = metrics_list.index(max_metric)\n",
        "optimize_threshold = thresholds[max_idx]\n",
        "binarizer = Binarizer(threshold = optimize_threshold)\n",
        "\n",
        "# 위에서 구한 predict_proba() 예측확률의 array에서 1에 해당하는 컬럼 값을 대입하여 Binarizer 반환하기\n",
        "pred_proba = lr_clf.predict_proba(X_test_scaled)[:,1].reshape(-1, 1)\n",
        "predict = binarizer.transform(pred_proba)\n",
        "print('임곗값: {0:.2f}'.format(optimize_threshold))\n",
        "get_clf_eval(y_test, predict, pred_proba)\n",
        "print()"
      ],
      "metadata": {
        "colab": {
          "base_uri": "https://localhost:8080/"
        },
        "id": "Ehsd8tJ_ZUoM",
        "outputId": "3fb15744-f1ee-48ac-a0c2-234c731cdf8e"
      },
      "execution_count": null,
      "outputs": [
        {
          "output_type": "stream",
          "name": "stdout",
          "text": [
            "hold out 최적의 임계값 지정\n",
            "\n",
            "임곗값: 0.48\n",
            "오차 행렬\n",
            "[[88 12]\n",
            " [19 35]]\n",
            "정확도: 0.7987, 정밀도: 0.7447, 재현율:0.6481, F1:0.6931, AUC:0.8433\n",
            "\n"
          ]
        }
      ]
    },
    {
      "cell_type": "code",
      "source": [
        "from sklearn.model_selection import StratifiedKFold\n",
        "\n",
        "print(\"Stratified K-fold\") # 총 24개\n",
        "skfold = StratifiedKFold(n_splits = 3, shuffle = False)\n",
        "features = diabetes_data.iloc[:, :-1].values\n",
        "label = diabetes_data.iloc[:, -1].values\n",
        "k_fold_metrics_list = []\n",
        "n_iters = 1\n",
        "\n",
        "for train_index, test_index in skfold.split(features, label):\n",
        "  print(\"K={0}\".format(n_iters))\n",
        "  n_iters+=1\n",
        "  X_train, X_test = features[train_index], features[test_index]\n",
        "  y_train, y_test = label[train_index], label[test_index]\n",
        "\n",
        "  scaler = StandardScaler()\n",
        "  X_train_scaled = scaler.fit_transform(X_train)\n",
        "  X_test_scaled = scaler.transform(X_test)\n",
        "\n",
        "  lr_clf = LogisticRegression()\n",
        "  lr_clf.fit(X_train_scaled, y_train)\n",
        "  pred = lr_clf.predict(X_test_scaled)\n",
        "  pred_proba = lr_clf.predict_proba(X_test_scaled)[:,1]\n",
        "\n",
        "  k_fold_metrics_list.append(get_eval_by_threshold(y_test, pred_proba.reshape(-1, 1), thresholds))\n",
        "  print(\"-------------------------------------------------------------\")\n"
      ],
      "metadata": {
        "colab": {
          "base_uri": "https://localhost:8080/"
        },
        "id": "KmatDmHmLF_5",
        "outputId": "f3b95940-6c8b-4a8b-c6a1-a4b9274e92d7"
      },
      "execution_count": null,
      "outputs": [
        {
          "output_type": "stream",
          "name": "stdout",
          "text": [
            "Stratified K-fold\n",
            "K=1\n",
            "임곗값:  0.3\n",
            "오차 행렬\n",
            "[[114  52]\n",
            " [ 20  70]]\n",
            "정확도: 0.7188, 정밀도: 0.5738, 재현율:0.7778, F1:0.6604, AUC:0.8186\n",
            "\n",
            "임곗값:  0.33\n",
            "오차 행렬\n",
            "[[118  48]\n",
            " [ 24  66]]\n",
            "정확도: 0.7188, 정밀도: 0.5789, 재현율:0.7333, F1:0.6471, AUC:0.8186\n",
            "\n",
            "임곗값:  0.36\n",
            "오차 행렬\n",
            "[[122  44]\n",
            " [ 26  64]]\n",
            "정확도: 0.7266, 정밀도: 0.5926, 재현율:0.7111, F1:0.6465, AUC:0.8186\n",
            "\n",
            "임곗값:  0.39\n",
            "오차 행렬\n",
            "[[128  38]\n",
            " [ 31  59]]\n",
            "정확도: 0.7305, 정밀도: 0.6082, 재현율:0.6556, F1:0.6310, AUC:0.8186\n",
            "\n",
            "임곗값:  0.42\n",
            "오차 행렬\n",
            "[[132  34]\n",
            " [ 32  58]]\n",
            "정확도: 0.7422, 정밀도: 0.6304, 재현율:0.6444, F1:0.6374, AUC:0.8186\n",
            "\n",
            "임곗값:  0.45\n",
            "오차 행렬\n",
            "[[134  32]\n",
            " [ 32  58]]\n",
            "정확도: 0.7500, 정밀도: 0.6444, 재현율:0.6444, F1:0.6444, AUC:0.8186\n",
            "\n",
            "임곗값:  0.48\n",
            "오차 행렬\n",
            "[[139  27]\n",
            " [ 35  55]]\n",
            "정확도: 0.7578, 정밀도: 0.6707, 재현율:0.6111, F1:0.6395, AUC:0.8186\n",
            "\n",
            "임곗값:  0.5\n",
            "오차 행렬\n",
            "[[143  23]\n",
            " [ 35  55]]\n",
            "정확도: 0.7734, 정밀도: 0.7051, 재현율:0.6111, F1:0.6548, AUC:0.8186\n",
            "\n",
            "-------------------------------------------------------------\n",
            "K=2\n",
            "임곗값:  0.3\n",
            "오차 행렬\n",
            "[[120  47]\n",
            " [ 24  65]]\n",
            "정확도: 0.7227, 정밀도: 0.5804, 재현율:0.7303, F1:0.6468, AUC:0.8165\n",
            "\n",
            "임곗값:  0.33\n",
            "오차 행렬\n",
            "[[125  42]\n",
            " [ 31  58]]\n",
            "정확도: 0.7148, 정밀도: 0.5800, 재현율:0.6517, F1:0.6138, AUC:0.8165\n",
            "\n",
            "임곗값:  0.36\n",
            "오차 행렬\n",
            "[[130  37]\n",
            " [ 33  56]]\n",
            "정확도: 0.7266, 정밀도: 0.6022, 재현율:0.6292, F1:0.6154, AUC:0.8165\n",
            "\n",
            "임곗값:  0.39\n",
            "오차 행렬\n",
            "[[133  34]\n",
            " [ 34  55]]\n",
            "정확도: 0.7344, 정밀도: 0.6180, 재현율:0.6180, F1:0.6180, AUC:0.8165\n",
            "\n",
            "임곗값:  0.42\n",
            "오차 행렬\n",
            "[[137  30]\n",
            " [ 35  54]]\n",
            "정확도: 0.7461, 정밀도: 0.6429, 재현율:0.6067, F1:0.6243, AUC:0.8165\n",
            "\n",
            "임곗값:  0.45\n",
            "오차 행렬\n",
            "[[141  26]\n",
            " [ 37  52]]\n",
            "정확도: 0.7539, 정밀도: 0.6667, 재현율:0.5843, F1:0.6228, AUC:0.8165\n",
            "\n",
            "임곗값:  0.48\n",
            "오차 행렬\n",
            "[[145  22]\n",
            " [ 41  48]]\n",
            "정확도: 0.7539, 정밀도: 0.6857, 재현율:0.5393, F1:0.6038, AUC:0.8165\n",
            "\n",
            "임곗값:  0.5\n",
            "오차 행렬\n",
            "[[147  20]\n",
            " [ 43  46]]\n",
            "정확도: 0.7539, 정밀도: 0.6970, 재현율:0.5169, F1:0.5935, AUC:0.8165\n",
            "\n",
            "-------------------------------------------------------------\n",
            "K=3\n",
            "임곗값:  0.3\n",
            "오차 행렬\n",
            "[[123  44]\n",
            " [ 15  74]]\n",
            "정확도: 0.7695, 정밀도: 0.6271, 재현율:0.8315, F1:0.7150, AUC:0.8796\n",
            "\n",
            "임곗값:  0.33\n",
            "오차 행렬\n",
            "[[129  38]\n",
            " [ 19  70]]\n",
            "정확도: 0.7773, 정밀도: 0.6481, 재현율:0.7865, F1:0.7107, AUC:0.8796\n",
            "\n",
            "임곗값:  0.36\n",
            "오차 행렬\n",
            "[[138  29]\n",
            " [ 22  67]]\n",
            "정확도: 0.8008, 정밀도: 0.6979, 재현율:0.7528, F1:0.7243, AUC:0.8796\n",
            "\n",
            "임곗값:  0.39\n",
            "오차 행렬\n",
            "[[141  26]\n",
            " [ 26  63]]\n",
            "정확도: 0.7969, 정밀도: 0.7079, 재현율:0.7079, F1:0.7079, AUC:0.8796\n",
            "\n",
            "임곗값:  0.42\n",
            "오차 행렬\n",
            "[[145  22]\n",
            " [ 30  59]]\n",
            "정확도: 0.7969, 정밀도: 0.7284, 재현율:0.6629, F1:0.6941, AUC:0.8796\n",
            "\n",
            "임곗값:  0.45\n",
            "오차 행렬\n",
            "[[149  18]\n",
            " [ 31  58]]\n",
            "정확도: 0.8086, 정밀도: 0.7632, 재현율:0.6517, F1:0.7030, AUC:0.8796\n",
            "\n",
            "임곗값:  0.48\n",
            "오차 행렬\n",
            "[[151  16]\n",
            " [ 38  51]]\n",
            "정확도: 0.7891, 정밀도: 0.7612, 재현율:0.5730, F1:0.6538, AUC:0.8796\n",
            "\n",
            "임곗값:  0.5\n",
            "오차 행렬\n",
            "[[153  14]\n",
            " [ 40  49]]\n",
            "정확도: 0.7891, 정밀도: 0.7778, 재현율:0.5506, F1:0.6447, AUC:0.8796\n",
            "\n",
            "-------------------------------------------------------------\n"
          ]
        }
      ]
    },
    {
      "cell_type": "code",
      "source": [
        "# k-fold 최적의 임계값으로 설정\n",
        "# 성능지표 5개를 모두 더한 뒤 평균을 낸 값이 가장 높은 임계값 지정\n",
        "\n",
        "from sklearn.model_selection import StratifiedKFold\n",
        "import numpy as np\n",
        "n_iters = 1\n",
        "print(\"Stratified K-fold 최적의 임계값 설정\", end = \"\\n\\n\") # 총 24개\n",
        "skfold = StratifiedKFold(n_splits = 3, shuffle = False)\n",
        "features = diabetes_data.iloc[:, :-1].values\n",
        "label = diabetes_data.iloc[:, -1].values\n",
        "\n",
        "# optimize threshold 찾기\n",
        "k1 = np.array(k_fold_metrics_list[0]).reshape(1, -1)\n",
        "k2 = np.array(k_fold_metrics_list[1]).reshape(1, -1)\n",
        "k3 = np.array(k_fold_metrics_list[2]).reshape(1, -1)\n",
        "  \n",
        "metrics_array = np.concatenate([k1, k2, k3], axis = 0)\n",
        "metrics_array\n",
        "sum_metrics_array = np.sum(metrics_array, axis = 0)\n",
        "average_metrics_array = sum_metrics_array / 3.0\n",
        "max_metric = max(average_metrics_array)\n",
        "max_idx = int(np.where(average_metrics_array == max_metric)[0])\n",
        "optimize_threshold = thresholds[max_idx]\n",
        "binarizer = Binarizer(threshold = optimize_threshold)\n",
        "\n",
        "for train_index, test_index in skfold.split(features, label):\n",
        "  print(\"임계값 = {}\".format(optimize_threshold))\n",
        "  print(\"K={0}\".format(n_iters))\n",
        "  n_iters+=1\n",
        "  X_train, X_test = features[train_index], features[test_index]\n",
        "  y_train, y_test = label[train_index], label[test_index]\n",
        "\n",
        "  scaler = StandardScaler()\n",
        "  X_train_scaled = scaler.fit_transform(X_train)\n",
        "  X_test_scaled = scaler.transform(X_test)\n",
        "\n",
        "  lr_clf = LogisticRegression()\n",
        "  lr_clf.fit(X_train_scaled, y_train)\n",
        "  pred_proba = lr_clf.predict_proba(X_test_scaled)[:,1].reshape(-1, 1)\n",
        "  predict = binarizer.transform(pred_proba)\n",
        "  get_clf_eval(y_test, predict, pred_proba)\n",
        "  print()"
      ],
      "metadata": {
        "colab": {
          "base_uri": "https://localhost:8080/"
        },
        "id": "pZo9f7zqaNp6",
        "outputId": "fb392fe8-4eac-4d58-f6dd-12cbc2cec4a3"
      },
      "execution_count": null,
      "outputs": [
        {
          "output_type": "stream",
          "name": "stdout",
          "text": [
            "Stratified K-fold 최적의 임계값 설정\n",
            "\n",
            "임계값 = 0.3\n",
            "K=1\n",
            "오차 행렬\n",
            "[[114  52]\n",
            " [ 20  70]]\n",
            "정확도: 0.7188, 정밀도: 0.5738, 재현율:0.7778, F1:0.6604, AUC:0.8186\n",
            "\n",
            "임계값 = 0.3\n",
            "K=2\n",
            "오차 행렬\n",
            "[[120  47]\n",
            " [ 24  65]]\n",
            "정확도: 0.7227, 정밀도: 0.5804, 재현율:0.7303, F1:0.6468, AUC:0.8165\n",
            "\n",
            "임계값 = 0.3\n",
            "K=3\n",
            "오차 행렬\n",
            "[[123  44]\n",
            " [ 15  74]]\n",
            "정확도: 0.7695, 정밀도: 0.6271, 재현율:0.8315, F1:0.7150, AUC:0.8796\n",
            "\n"
          ]
        }
      ]
    },
    {
      "cell_type": "code",
      "source": [
        ""
      ],
      "metadata": {
        "id": "Z8OMAEebMWpi"
      },
      "execution_count": null,
      "outputs": []
    }
  ]
}
